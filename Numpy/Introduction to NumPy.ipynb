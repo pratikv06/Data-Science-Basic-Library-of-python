{
 "cells": [
  {
   "cell_type": "markdown",
   "metadata": {},
   "source": [
    "# Introduction of NumPy"
   ]
  },
  {
   "cell_type": "code",
   "execution_count": 1,
   "metadata": {},
   "outputs": [],
   "source": [
    "# Importing Numpy\n",
    "import numpy as np"
   ]
  },
  {
   "cell_type": "code",
   "execution_count": 27,
   "metadata": {},
   "outputs": [
    {
     "name": "stdout",
     "output_type": "stream",
     "text": [
      "Type of variable a is <class 'numpy.ndarray'>\n",
      "Values in a is [1 2 3]\n",
      "Total Number of element in the array = 3\n",
      "Value at index 0 is 1\n",
      "Dimension of array a is 1\n"
     ]
    }
   ],
   "source": [
    "#Create Array\n",
    "a = np.array([1,2,3])\n",
    "print(\"Type of variable a is\", type(a))\n",
    "print(\"Values in a is\", a)\n",
    "print(\"Total Number of element in the array =\", a.size)\n",
    "print(\"Value at index 0 is\",a[0])\n",
    "print(\"Dimension of array a is\", a.ndim)"
   ]
  },
  {
   "cell_type": "code",
   "execution_count": 84,
   "metadata": {},
   "outputs": [
    {
     "name": "stdout",
     "output_type": "stream",
     "text": [
      "9\n",
      "Values in b is [[1 2]\n",
      " [3 4]\n",
      " [5 6]]\n",
      "Value at index 0,1 is 2\n",
      "Dimension of array b is 2\n",
      "Data Type of Array b = int32\n",
      "Size of Each Element in Array b = 4\n"
     ]
    }
   ],
   "source": [
    "#Multidimensional Array\n",
    "b = np.array([[1,2], [3,4], [5,6]])\n",
    "print(a.size)\n",
    "print(\"Values in b is\", b)\n",
    "print(\"Value at index 0,1 is\",b[0][1])\n",
    "print(\"Dimension of array b is\", b.ndim)\n",
    "print(\"Data Type of Array b =\", b.dtype)\n",
    "print(\"Size of Each Element in Array b =\", b.itemsize) "
   ]
  },
  {
   "cell_type": "code",
   "execution_count": 29,
   "metadata": {},
   "outputs": [
    {
     "name": "stdout",
     "output_type": "stream",
     "text": [
      "[[1. 2.]\n",
      " [3. 4.]\n",
      " [5. 6.]]\n",
      "float64\n",
      "Total Number of element in the array = 6\n",
      "Shape of array (Rows, columns) = (3, 2)\n"
     ]
    }
   ],
   "source": [
    "#Float array\n",
    "c = np.array([[1,2], [3,4], [5,6]], dtype=np.float64)\n",
    "print(c)\n",
    "print(c.dtype)\n",
    "print(\"Total Number of element in the array =\", c.size)\n",
    "print(\"Shape of array (Rows, columns) =\", c.shape)"
   ]
  },
  {
   "cell_type": "code",
   "execution_count": 30,
   "metadata": {},
   "outputs": [
    {
     "name": "stdout",
     "output_type": "stream",
     "text": [
      "[[1.+0.j 2.+0.j]\n",
      " [3.+0.j 4.+0.j]\n",
      " [5.+0.j 6.+0.j]]\n"
     ]
    }
   ],
   "source": [
    "# Complex Array\n",
    "c = np.array([[1,2], [3,4], [5,6]], dtype=complex)\n",
    "print(c)"
   ]
  },
  {
   "cell_type": "code",
   "execution_count": 37,
   "metadata": {},
   "outputs": [
    {
     "name": "stdout",
     "output_type": "stream",
     "text": [
      "[[0. 0. 0. 0.]\n",
      " [0. 0. 0. 0.]\n",
      " [0. 0. 0. 0.]]\n",
      "[[1. 1. 1. 1.]\n",
      " [1. 1. 1. 1.]]\n",
      "[1 2 3 4 5 6 7 8 9]\n",
      "[ 5 10 15 20 25 30 35 40 45 50 55 60 65 70 75 80 85 90 95]\n",
      "[1.         1.21428571 1.42857143 1.64285714 1.85714286 2.07142857\n",
      " 2.28571429 2.5        2.71428571 2.92857143 3.14285714 3.35714286\n",
      " 3.57142857 3.78571429 4.        ]\n"
     ]
    }
   ],
   "source": [
    "#Initializing array with zeros and one\n",
    "print(np.zeros((3,4)))\n",
    "print(np.ones((2,4)))\n",
    "\n",
    "#Array of continuous number\n",
    "print(np.arange(1,10))\n",
    "\n",
    "#Array with a gap of 5\n",
    "print(np.arange(5,100,5))\n",
    "\n",
    "#Array of linerly space element \n",
    "#15 element equally space between 1 to 4 (inclusive)\n",
    "print(np.linspace(1,4,15))"
   ]
  },
  {
   "cell_type": "code",
   "execution_count": 64,
   "metadata": {},
   "outputs": [
    {
     "name": "stdout",
     "output_type": "stream",
     "text": [
      "Shape of array = (3, 2)\n",
      "New shaped array = [[7 8 9]\n",
      " [1 2 3]]\n",
      "New shaped array = [[7 8 9 1 2 3]]\n",
      "Array in 1D = [7 8 9 1 2 3]\n"
     ]
    }
   ],
   "source": [
    "d = np.array([[7,8], [9,1], [2,3]])\n",
    "print(\"Shape of array =\",d.shape)\n",
    "\n",
    "#Changing shape of array\n",
    "# Didn't save the changes on the original array\n",
    "print(\"New shaped array =\",d.reshape(2,3))\n",
    "print(\"New shaped array =\",d.reshape(1,6))\n",
    "\n",
    "#Displaying array in 1D\n",
    "print(\"Array in 1D =\", d.ravel())"
   ]
  },
  {
   "cell_type": "code",
   "execution_count": 65,
   "metadata": {},
   "outputs": [
    {
     "name": "stdout",
     "output_type": "stream",
     "text": [
      "Array >>>\n",
      " [[7 8]\n",
      " [9 1]\n",
      " [2 3]]\n",
      "Minimum =  1\n",
      "Maximum = 9\n",
      "Sum = 30\n",
      "Sum (Column) = [18 12]\n",
      "Sum (Row) = [15 10  5]\n",
      "Square Root = [[2.64575131 2.82842712]\n",
      " [3.         1.        ]\n",
      " [1.41421356 1.73205081]]\n",
      "Standard Deviation = 3.1091263510296048\n"
     ]
    }
   ],
   "source": [
    "#Maths operation on array\n",
    "print(\"Array >>>\\n\", d)\n",
    "print(\"Minimum = \", d.min())\n",
    "print(\"Maximum =\", d.max())\n",
    "print(\"Sum =\", d.sum())\n",
    "print(\"Sum (Column) =\", d.sum(axis=0))\n",
    "print(\"Sum (Row) =\", d.sum(axis=1))\n",
    "print(\"Square Root =\", np.sqrt(d))\n",
    "print(\"Standard Deviation =\", np.std(d))"
   ]
  },
  {
   "cell_type": "code",
   "execution_count": 79,
   "metadata": {},
   "outputs": [
    {
     "name": "stdout",
     "output_type": "stream",
     "text": [
      "(2, 3)\n"
     ]
    }
   ],
   "source": [
    "e = np.array([[1,2,3],[4,5,6]])\n",
    "print(e.shape)"
   ]
  },
  {
   "cell_type": "code",
   "execution_count": 82,
   "metadata": {},
   "outputs": [
    {
     "name": "stdout",
     "output_type": "stream",
     "text": [
      "Array b shape = (3, 2)\n",
      "Array d shape = (3, 2)\n",
      "Array e shape = (2, 3)\n",
      "Add >>>\n",
      " [[ 8 10]\n",
      " [12  5]\n",
      " [ 7  9]]\n",
      "Sub >>>\n",
      " [[-6 -6]\n",
      " [-6  3]\n",
      " [ 3  3]]\n",
      "Mul >>>\n",
      " [[ 7 16]\n",
      " [27  4]\n",
      " [10 18]]\n",
      "Div >>>\n",
      " [[0.14285714 0.25      ]\n",
      " [0.33333333 4.        ]\n",
      " [2.5        2.        ]]\n",
      "Matrix Product >>>\n",
      " [[ 9 12 15]\n",
      " [19 26 33]\n",
      " [29 40 51]]\n"
     ]
    }
   ],
   "source": [
    "print(\"Array b shape =\", b.shape)\n",
    "print(\"Array d shape =\", d.shape)\n",
    "print(\"Array e shape =\", e.shape)\n",
    "print(\"Add >>>\\n\", b+d)\n",
    "print(\"Sub >>>\\n\", b-d)\n",
    "print(\"Mul >>>\\n\", b*d)\n",
    "print(\"Div >>>\\n\", b/d)\n",
    "print(\"Matrix Product >>>\\n\", b.dot(e))"
   ]
  },
  {
   "cell_type": "markdown",
   "metadata": {},
   "source": [
    "# Slicing of Array "
   ]
  },
  {
   "cell_type": "code",
   "execution_count": 138,
   "metadata": {},
   "outputs": [
    {
     "name": "stdout",
     "output_type": "stream",
     "text": [
      "[[6 7 8]\n",
      " [1 2 3]\n",
      " [9 2 3]]\n"
     ]
    }
   ],
   "source": [
    "a = np.array([[6,7,8], [1,2,3], [9,2,3]])\n",
    "print(a)"
   ]
  },
  {
   "cell_type": "code",
   "execution_count": 97,
   "metadata": {},
   "outputs": [
    {
     "name": "stdout",
     "output_type": "stream",
     "text": [
      "Element at index [1,2] = 3 3\n",
      "From row 0 and 1 and column 2 = [8 3]\n",
      "Value at index -1 = [9 2 3] [9 2] 3\n",
      "All row and 1 & 2 column = [[7 8]\n",
      " [2 3]\n",
      " [2 3]]\n"
     ]
    }
   ],
   "source": [
    "print(\"Element at index [1,2] =\", a[1][2], a[1,2]) # Both have same meaning\n",
    "print(\"From row 0 and 1 and column 2 =\", a[0:2,2]) # in term of index (0:2 - is slicing)\n",
    "print(\"Value at index -1 =\", a[-1], a[-1, 0:2], a[-1, -1])\n",
    "print(\"All row and 1 & 2 column =\", a[:,1:3]) # In term of index"
   ]
  },
  {
   "cell_type": "markdown",
   "metadata": {},
   "source": [
    "### Iterating through array"
   ]
  },
  {
   "cell_type": "code",
   "execution_count": 99,
   "metadata": {},
   "outputs": [
    {
     "name": "stdout",
     "output_type": "stream",
     "text": [
      "[6 7 8]\n",
      "[1 2 3]\n",
      "[9 2 3]\n"
     ]
    }
   ],
   "source": [
    "# one row at a time\n",
    "for row in a:\n",
    "    print(row)"
   ]
  },
  {
   "cell_type": "code",
   "execution_count": 140,
   "metadata": {},
   "outputs": [
    {
     "name": "stdout",
     "output_type": "stream",
     "text": [
      "6\n",
      "7\n",
      "8\n",
      "1\n",
      "2\n",
      "3\n",
      "9\n",
      "2\n",
      "3\n",
      "6\n",
      "7\n",
      "8\n",
      "1\n",
      "2\n",
      "3\n",
      "9\n",
      "2\n",
      "3\n"
     ]
    }
   ],
   "source": [
    "# One element at a time\n",
    "for cell in a.flat:\n",
    "    print(cell)\n",
    "    \n",
    "for cell in a.flatten():\n",
    "    print(cell)\n",
    "    "
   ]
  },
  {
   "cell_type": "markdown",
   "metadata": {},
   "source": [
    "* `flatten` always returns a copy. <br>\n",
    "***\n",
    "* `ravel` returns a view of the original array whenever possible. This isn't visible in the printed output, but if you modify the array returned by ravel, it may modify the entries in the original array. If you modify the entries in an array returned from flatten this will never happen. ravel will often be faster since no memory is copied, but you have to be more careful about modifying the array it returns. <br>\n",
    "***\n",
    "* `reshape((-1,))` gets a view whenever the strides of the array allow it even if that means you don't always get a contiguous array."
   ]
  },
  {
   "cell_type": "markdown",
   "metadata": {},
   "source": [
    "### Stacking of array"
   ]
  },
  {
   "cell_type": "code",
   "execution_count": 103,
   "metadata": {},
   "outputs": [
    {
     "name": "stdout",
     "output_type": "stream",
     "text": [
      "[[0 1]\n",
      " [2 3]\n",
      " [4 5]]\n",
      "[[ 6  7]\n",
      " [ 8  9]\n",
      " [10 11]]\n"
     ]
    }
   ],
   "source": [
    "a = np.arange(6).reshape(3,2)\n",
    "b = np.arange(6,12).reshape(3,2)\n",
    "print(a)\n",
    "print(b)"
   ]
  },
  {
   "cell_type": "code",
   "execution_count": 105,
   "metadata": {},
   "outputs": [
    {
     "name": "stdout",
     "output_type": "stream",
     "text": [
      "[[ 0  1]\n",
      " [ 2  3]\n",
      " [ 4  5]\n",
      " [ 6  7]\n",
      " [ 8  9]\n",
      " [10 11]]\n",
      "[[ 0  1  6  7]\n",
      " [ 2  3  8  9]\n",
      " [ 4  5 10 11]]\n"
     ]
    }
   ],
   "source": [
    "print(np.vstack((a,b))) # add element vertically\n",
    "print(np.hstack((a,b))) # element added horizontally"
   ]
  },
  {
   "cell_type": "markdown",
   "metadata": {},
   "source": [
    "### Slicing a array "
   ]
  },
  {
   "cell_type": "code",
   "execution_count": 107,
   "metadata": {},
   "outputs": [
    {
     "name": "stdout",
     "output_type": "stream",
     "text": [
      "[[ 1  2  3  4  5  6  7  8  9 10 11 12 13 14 15]\n",
      " [16 17 18 19 20 21 22 23 24 25 26 27 28 29 30]]\n"
     ]
    }
   ],
   "source": [
    "a = np.arange(1,31).reshape(2,15)\n",
    "print(a)"
   ]
  },
  {
   "cell_type": "code",
   "execution_count": 114,
   "metadata": {},
   "outputs": [
    {
     "name": "stdout",
     "output_type": "stream",
     "text": [
      "[array([[ 1,  2,  3,  4,  5],\n",
      "       [16, 17, 18, 19, 20]]), array([[ 6,  7,  8,  9, 10],\n",
      "       [21, 22, 23, 24, 25]]), array([[11, 12, 13, 14, 15],\n",
      "       [26, 27, 28, 29, 30]])]\n",
      "[[ 1  2  3  4  5]\n",
      " [16 17 18 19 20]]\n",
      "[[ 6  7  8  9 10]\n",
      " [21 22 23 24 25]]\n",
      "[[11 12 13 14 15]\n",
      " [26 27 28 29 30]]\n"
     ]
    }
   ],
   "source": [
    "print(np.hsplit(a,3))\n",
    "new = np.hsplit(a,3)\n",
    "print(new[0])\n",
    "print(new[1])\n",
    "print(new[2])"
   ]
  },
  {
   "cell_type": "code",
   "execution_count": 118,
   "metadata": {},
   "outputs": [
    {
     "name": "stdout",
     "output_type": "stream",
     "text": [
      "[array([[ 1,  2,  3,  4,  5,  6,  7,  8,  9, 10, 11, 12, 13, 14, 15]]), array([[16, 17, 18, 19, 20, 21, 22, 23, 24, 25, 26, 27, 28, 29, 30]])]\n",
      "[[ 1  2  3  4  5  6  7  8  9 10 11 12 13 14 15]]\n",
      "[[16 17 18 19 20 21 22 23 24 25 26 27 28 29 30]]\n"
     ]
    }
   ],
   "source": [
    "print(np.vsplit(a,2))\n",
    "new = np.vsplit(a,2)\n",
    "print(new[0])\n",
    "print(new[1])"
   ]
  },
  {
   "cell_type": "markdown",
   "metadata": {},
   "source": [
    "### array as index of array"
   ]
  },
  {
   "cell_type": "code",
   "execution_count": 133,
   "metadata": {},
   "outputs": [
    {
     "name": "stdout",
     "output_type": "stream",
     "text": [
      "[[ 1  2  3  4]\n",
      " [ 5  6  7  8]\n",
      " [ 9 10 11 12]]\n",
      "[[False False False False]\n",
      " [ True  True  True  True]\n",
      " [ True  True  True  True]]\n"
     ]
    }
   ],
   "source": [
    "a = np.arange(1,13).reshape(3,4)\n",
    "print(a)\n",
    "b = a > 4\n",
    "# This will store true and false value\n",
    "print(b)"
   ]
  },
  {
   "cell_type": "code",
   "execution_count": 134,
   "metadata": {},
   "outputs": [
    {
     "name": "stdout",
     "output_type": "stream",
     "text": [
      "[ 5  6  7  8  9 10 11 12]\n"
     ]
    }
   ],
   "source": [
    "print(a[b])"
   ]
  },
  {
   "cell_type": "code",
   "execution_count": 135,
   "metadata": {},
   "outputs": [
    {
     "name": "stdout",
     "output_type": "stream",
     "text": [
      "[[ 1  2  3  4]\n",
      " [ 5  6  7  8]\n",
      " [ 9 10 11 12]]\n",
      "[[ 1  2  3  4]\n",
      " [-1 -1 -1 -1]\n",
      " [-1 -1 -1 -1]]\n"
     ]
    }
   ],
   "source": [
    "print(a)\n",
    "a[b]=-1\n",
    "print(a)"
   ]
  },
  {
   "cell_type": "markdown",
   "metadata": {},
   "source": [
    "### Nditer function"
   ]
  },
  {
   "cell_type": "code",
   "execution_count": 156,
   "metadata": {},
   "outputs": [
    {
     "name": "stdout",
     "output_type": "stream",
     "text": [
      "1\n",
      "2\n",
      "3\n",
      "4\n",
      "5\n",
      "6\n",
      "7\n",
      "8\n",
      "9\n"
     ]
    }
   ],
   "source": [
    "a = np.arange(1,10).reshape(3,3)\n",
    "\n",
    "# Print Row by row\n",
    "for x in np.nditer(a, order='C'):\n",
    "    print(x)"
   ]
  },
  {
   "cell_type": "code",
   "execution_count": 157,
   "metadata": {},
   "outputs": [
    {
     "name": "stdout",
     "output_type": "stream",
     "text": [
      "[1 4 7]\n",
      "[2 5 8]\n",
      "[3 6 9]\n"
     ]
    }
   ],
   "source": [
    "#Fortan Order\n",
    "# Print column by column\n",
    "for x in np.nditer(a, order='F', flags = ['external_loop']):\n",
    "    print(x)"
   ]
  },
  {
   "cell_type": "code",
   "execution_count": 158,
   "metadata": {},
   "outputs": [
    {
     "data": {
      "text/plain": [
       "array([[ 1,  4,  9],\n",
       "       [16, 25, 36],\n",
       "       [49, 64, 81]])"
      ]
     },
     "execution_count": 158,
     "metadata": {},
     "output_type": "execute_result"
    }
   ],
   "source": [
    "#Changing the value of array\n",
    "for x in np.nditer(a, op_flags= ['readwrite']):\n",
    "    x[...] = x*x\n",
    "a"
   ]
  },
  {
   "cell_type": "code",
   "execution_count": 169,
   "metadata": {},
   "outputs": [
    {
     "name": "stdout",
     "output_type": "stream",
     "text": [
      "(3, 3)\n",
      "(3, 1)\n",
      "1 3\n",
      "4 3\n",
      "9 3\n",
      "16 7\n",
      "25 7\n",
      "36 7\n",
      "49 11\n",
      "64 11\n",
      "81 11\n"
     ]
    }
   ],
   "source": [
    "#NOTE\n",
    "# to do this \n",
    "# 1. Same shape\n",
    "# 2. One dimension any one array is 1\n",
    "#parsing through two array \n",
    "print(a.shape)\n",
    "print(b.shape)\n",
    "b = np.arange(3,15,4).reshape(3,1)\n",
    "for x,y in np.nditer([a,b]):\n",
    "    print(x,y)"
   ]
  },
  {
   "cell_type": "code",
   "execution_count": null,
   "metadata": {},
   "outputs": [],
   "source": []
  }
 ],
 "metadata": {
  "kernelspec": {
   "display_name": "Python 3",
   "language": "python",
   "name": "python3"
  },
  "language_info": {
   "codemirror_mode": {
    "name": "ipython",
    "version": 3
   },
   "file_extension": ".py",
   "mimetype": "text/x-python",
   "name": "python",
   "nbconvert_exporter": "python",
   "pygments_lexer": "ipython3",
   "version": "3.7.6"
  }
 },
 "nbformat": 4,
 "nbformat_minor": 4
}
