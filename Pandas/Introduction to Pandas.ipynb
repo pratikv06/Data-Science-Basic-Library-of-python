{
 "cells": [
  {
   "cell_type": "markdown",
   "metadata": {},
   "source": [
    "# Introduction to pandas "
   ]
  },
  {
   "cell_type": "code",
   "execution_count": 5,
   "metadata": {},
   "outputs": [],
   "source": [
    "import numpy as np\n",
    "import pandas as pd\n",
    "\n",
    "def header(msg):\n",
    "\tprint('-' * 50)\n",
    "\tprint('[ ' + msg + ' ]')"
   ]
  },
  {
   "cell_type": "code",
   "execution_count": 17,
   "metadata": {},
   "outputs": [
    {
     "name": "stdout",
     "output_type": "stream",
     "text": [
      "--------------------------------------------------\n",
      "[ 1. load hard-coded data into a df ]\n",
      "   month  avg_high  avg_low  record_high  record_low  avg_precipitation\n",
      "0    Jan        58       42           74          22               2.95\n",
      "1    Feb        61       45           78          26               3.02\n",
      "2    Mar        65       48           84          25               2.34\n",
      "3    Apr        67       50           92          28               1.02\n",
      "4    May        71       53           98          35               0.48\n",
      "5    Jun        75       56          107          41               0.11\n",
      "6    Jul        77       58          105          44               0.00\n",
      "7    Aug        77       59          102          43               0.03\n",
      "8    Sep        77       57          103          40               0.17\n",
      "9    Oct        73       54           96          34               0.81\n",
      "10   Nov        64       48           84          30               1.70\n",
      "11   Dec        58       42           73          21               2.56\n"
     ]
    }
   ],
   "source": [
    "# 1. load hard-coded data into a dataframe\n",
    "header(\"1. load hard-coded data into a df\")\n",
    "df = pd.DataFrame(\n",
    "\t[['Jan',58,42,74,22,2.95],\n",
    "\t['Feb',61,45,78,26,3.02],\n",
    "\t['Mar',65,48,84,25,2.34],\n",
    "\t['Apr',67,50,92,28,1.02],\n",
    "\t['May',71,53,98,35,0.48],\n",
    "\t['Jun',75,56,107,41,0.11],\n",
    "\t['Jul',77,58,105,44,0.0],\n",
    "\t['Aug',77,59,102,43,0.03],\n",
    "\t['Sep',77,57,103,40,0.17],\n",
    "\t['Oct',73,54,96,34,0.81],\n",
    "\t['Nov',64,48,84,30,1.7],\n",
    "\t['Dec',58,42,73,21,2.56]],\n",
    "\tindex = [0,1,2,3,4,5,6,7,8,9,10,11],\n",
    "\tcolumns = ['month','avg_high','avg_low','record_high','record_low','avg_precipitation'])\n",
    "print(df)"
   ]
  },
  {
   "cell_type": "code",
   "execution_count": 4,
   "metadata": {},
   "outputs": [
    {
     "name": "stdout",
     "output_type": "stream",
     "text": [
      "--------------------------------------------------\n",
      "[ 2. read text file into a df ]\n",
      "   month  avg_high  avg_low  record_high  record_low  avg_precipitation\n",
      "0    Jan        58       42           74          22               2.95\n",
      "1    Feb        61       45           78          26               3.02\n",
      "2    Mar        65       48           84          25               2.34\n",
      "3    Apr        67       50           92          28               1.02\n",
      "4    May        71       53           98          35               0.48\n",
      "5    Jun        75       56          107          41               0.11\n",
      "6    Jul        77       58          105          44               0.00\n",
      "7    Aug        77       59          102          43               0.03\n",
      "8    Sep        77       57          103          40               0.17\n",
      "9    Oct        73       54           96          34               0.81\n",
      "10   Nov        64       48           84          30               1.70\n",
      "11   Dec        58       42           73          21               2.56\n"
     ]
    }
   ],
   "source": [
    "# 2. read text file into a dataframe\n",
    "header(\"2. read text file into a df\")\n",
    "filename = '2 Fremont_weather.txt'\n",
    "df = pd.read_csv(filename)\n",
    "print(df)\n"
   ]
  },
  {
   "cell_type": "code",
   "execution_count": 5,
   "metadata": {},
   "outputs": [
    {
     "name": "stdout",
     "output_type": "stream",
     "text": [
      "--------------------------------------------------\n",
      "[ 3. df.head() ]\n",
      "  month  avg_high  avg_low  record_high  record_low  avg_precipitation\n",
      "0   Jan        58       42           74          22               2.95\n",
      "1   Feb        61       45           78          26               3.02\n",
      "2   Mar        65       48           84          25               2.34\n",
      "3   Apr        67       50           92          28               1.02\n",
      "4   May        71       53           98          35               0.48\n",
      "--------------------------------------------------\n",
      "[ 3. df.tail(3) ]\n",
      "   month  avg_high  avg_low  record_high  record_low  avg_precipitation\n",
      "9    Oct        73       54           96          34               0.81\n",
      "10   Nov        64       48           84          30               1.70\n",
      "11   Dec        58       42           73          21               2.56\n"
     ]
    }
   ],
   "source": [
    "# 3. print first 5 or last 3 rows of df\n",
    "header(\"3. df.head()\")\n",
    "print(df.head())\n",
    "header(\"3. df.tail(3)\")\n",
    "print(df.tail(3))"
   ]
  },
  {
   "cell_type": "code",
   "execution_count": 18,
   "metadata": {},
   "outputs": [
    {
     "name": "stdout",
     "output_type": "stream",
     "text": [
      "--------------------------------------------------\n",
      "[ 4. df.dtypes ]\n",
      "month                 object\n",
      "avg_high               int64\n",
      "avg_low                int64\n",
      "record_high            int64\n",
      "record_low             int64\n",
      "avg_precipitation    float64\n",
      "dtype: object\n",
      "--------------------------------------------------\n",
      "[ 4. df.index ]\n",
      "Int64Index([0, 1, 2, 3, 4, 5, 6, 7, 8, 9, 10, 11], dtype='int64')\n",
      "--------------------------------------------------\n",
      "[ 4. df.columns ]\n",
      "Index(['month', 'avg_high', 'avg_low', 'record_high', 'record_low',\n",
      "       'avg_precipitation'],\n",
      "      dtype='object')\n",
      "--------------------------------------------------\n",
      "[ 4. df.values ]\n",
      "[['Jan' 58 42 74 22 2.95]\n",
      " ['Feb' 61 45 78 26 3.02]\n",
      " ['Mar' 65 48 84 25 2.34]\n",
      " ['Apr' 67 50 92 28 1.02]\n",
      " ['May' 71 53 98 35 0.48]\n",
      " ['Jun' 75 56 107 41 0.11]\n",
      " ['Jul' 77 58 105 44 0.0]\n",
      " ['Aug' 77 59 102 43 0.03]\n",
      " ['Sep' 77 57 103 40 0.17]\n",
      " ['Oct' 73 54 96 34 0.81]\n",
      " ['Nov' 64 48 84 30 1.7]\n",
      " ['Dec' 58 42 73 21 2.56]]\n"
     ]
    }
   ],
   "source": [
    "# 4. get data types, index, columns, values\n",
    "header(\"4. df.dtypes\")\n",
    "print(df.dtypes)\n",
    "\n",
    "header(\"4. df.index\")\n",
    "print(df.index)\n",
    "\n",
    "header(\"4. df.columns\")\n",
    "print(df.columns)\n",
    "\n",
    "header(\"4. df.values\")\n",
    "print(df.values)"
   ]
  },
  {
   "cell_type": "code",
   "execution_count": 7,
   "metadata": {},
   "outputs": [
    {
     "name": "stdout",
     "output_type": "stream",
     "text": [
      "--------------------------------------------------\n",
      "[ 5. df.describe() ]\n",
      "        avg_high    avg_low  record_high  record_low  avg_precipitation\n",
      "count  12.000000  12.000000    12.000000   12.000000          12.000000\n",
      "mean   68.583333  51.000000    91.333333   32.416667           1.265833\n",
      "std     7.366488   6.060303    12.323911    8.240238           1.186396\n",
      "min    58.000000  42.000000    73.000000   21.000000           0.000000\n",
      "25%    63.250000  47.250000    82.500000   25.750000           0.155000\n",
      "50%    69.000000  51.500000    94.000000   32.000000           0.915000\n",
      "75%    75.500000  56.250000   102.250000   40.250000           2.395000\n",
      "max    77.000000  59.000000   107.000000   44.000000           3.020000\n"
     ]
    }
   ],
   "source": [
    "# 5. statistical summary of each column\n",
    "header(\"5. df.describe()\")\n",
    "print(df.describe())"
   ]
  },
  {
   "cell_type": "code",
   "execution_count": 8,
   "metadata": {},
   "outputs": [
    {
     "name": "stdout",
     "output_type": "stream",
     "text": [
      "--------------------------------------------------\n",
      "[ 6. df.sort_values('record_high', ascending=False) ]\n",
      "   month  avg_high  avg_low  record_high  record_low  avg_precipitation\n",
      "5    Jun        75       56          107          41               0.11\n",
      "6    Jul        77       58          105          44               0.00\n",
      "8    Sep        77       57          103          40               0.17\n",
      "7    Aug        77       59          102          43               0.03\n",
      "4    May        71       53           98          35               0.48\n",
      "9    Oct        73       54           96          34               0.81\n",
      "3    Apr        67       50           92          28               1.02\n",
      "2    Mar        65       48           84          25               2.34\n",
      "10   Nov        64       48           84          30               1.70\n",
      "1    Feb        61       45           78          26               3.02\n",
      "0    Jan        58       42           74          22               2.95\n",
      "11   Dec        58       42           73          21               2.56\n"
     ]
    }
   ],
   "source": [
    "# 6. sort records by any column\n",
    "header(\"6. df.sort_values('record_high', ascending=False)\")\n",
    "print (df.sort_values('record_high', ascending=False))"
   ]
  },
  {
   "cell_type": "code",
   "execution_count": 9,
   "metadata": {},
   "outputs": [
    {
     "name": "stdout",
     "output_type": "stream",
     "text": [
      "--------------------------------------------------\n",
      "[ 7. slicing -- df.avg_low ]\n",
      "0     42\n",
      "1     45\n",
      "2     48\n",
      "3     50\n",
      "4     53\n",
      "5     56\n",
      "6     58\n",
      "7     59\n",
      "8     57\n",
      "9     54\n",
      "10    48\n",
      "11    42\n",
      "Name: avg_low, dtype: int64\n",
      "--------------------------------------------------\n",
      "[ 7. slicing -- df['avg_low'] ]\n",
      "0     42\n",
      "1     45\n",
      "2     48\n",
      "3     50\n",
      "4     53\n",
      "5     56\n",
      "6     58\n",
      "7     59\n",
      "8     57\n",
      "9     54\n",
      "10    48\n",
      "11    42\n",
      "Name: avg_low, dtype: int64\n",
      "--------------------------------------------------\n",
      "[ 7. slicing -- df[2:4] ]\n",
      "  month  avg_high  avg_low  record_high  record_low  avg_precipitation\n",
      "2   Mar        65       48           84          25               2.34\n",
      "3   Apr        67       50           92          28               1.02\n",
      "--------------------------------------------------\n",
      "[ 7. slicing -- df[['avg_low','avg_high']] ]\n",
      "    avg_low  avg_high\n",
      "0        42        58\n",
      "1        45        61\n",
      "2        48        65\n",
      "3        50        67\n",
      "4        53        71\n",
      "5        56        75\n",
      "6        58        77\n",
      "7        59        77\n",
      "8        57        77\n",
      "9        54        73\n",
      "10       48        64\n",
      "11       42        58\n",
      "--------------------------------------------------\n",
      "[ 7. slicing -- df.loc[:,['avg_low','avg_high']] ]\n",
      "    avg_low  avg_high\n",
      "0        42        58\n",
      "1        45        61\n",
      "2        48        65\n",
      "3        50        67\n",
      "4        53        71\n",
      "5        56        75\n",
      "6        58        77\n",
      "7        59        77\n",
      "8        57        77\n",
      "9        54        73\n",
      "10       48        64\n",
      "11       42        58\n",
      "--------------------------------------------------\n",
      "[ 7. slicing scalar value -- df.loc[9,['avg_precipitation']] ]\n",
      "avg_precipitation    0.81\n",
      "Name: 9, dtype: object\n",
      "--------------------------------------------------\n",
      "[ 7. df.iloc[3:5,[0,3]] ]\n",
      "  month  record_high\n",
      "3   Apr           92\n",
      "4   May           98\n"
     ]
    }
   ],
   "source": [
    "# 7. slicing records\n",
    "header(\"7. slicing -- df.avg_low\")\n",
    "print(df.avg_low)\t\t\t\t\t\t\t# index with single column\n",
    "\n",
    "header(\"7. slicing -- df['avg_low']\")\n",
    "print(df['avg_low'])\n",
    "\n",
    "header(\"7. slicing -- df[2:4]\")\t\t\t\t# index with single column\n",
    "print(df[2:4])\t\t\t\t\t\t\t\t# rows 2 to 3\n",
    "\n",
    "header(\"7. slicing -- df[['avg_low','avg_high']]\")\n",
    "print(df[['avg_low','avg_high']])\n",
    "\n",
    "header(\"7. slicing -- df.loc[:,['avg_low','avg_high']]\")\n",
    "print(df.loc[:,['avg_low','avg_high']])\t\t# multiple columns: df.loc[from_row:to_row,['column1','column2']]\n",
    "\n",
    "header(\"7. slicing scalar value -- df.loc[9,['avg_precipitation']]\")\n",
    "print(df.loc[9,['avg_precipitation']])\n",
    "\n",
    "header(\"7. df.iloc[3:5,[0,3]]\")\t\t\t\t# index location can receive range or list of indices\n",
    "print(df.iloc[3:5,[0,3]])"
   ]
  },
  {
   "cell_type": "code",
   "execution_count": 10,
   "metadata": {},
   "outputs": [
    {
     "name": "stdout",
     "output_type": "stream",
     "text": [
      "--------------------------------------------------\n",
      "[ 8. df[df.avg_precipitation > 1.0] ]\n",
      "   month  avg_high  avg_low  record_high  record_low  avg_precipitation\n",
      "0    Jan        58       42           74          22               2.95\n",
      "1    Feb        61       45           78          26               3.02\n",
      "2    Mar        65       48           84          25               2.34\n",
      "3    Apr        67       50           92          28               1.02\n",
      "10   Nov        64       48           84          30               1.70\n",
      "11   Dec        58       42           73          21               2.56\n",
      "--------------------------------------------------\n",
      "[ 8. df[df['month'].isin['Jun','Jul','Aug']] ]\n",
      "  month  avg_high  avg_low  record_high  record_low  avg_precipitation\n",
      "5   Jun        75       56          107          41               0.11\n",
      "6   Jul        77       58          105          44               0.00\n",
      "7   Aug        77       59          102          43               0.03\n"
     ]
    }
   ],
   "source": [
    "# 8. filtering\n",
    "header(\"8. df[df.avg_precipitation > 1.0]\")\t# filter on column values\n",
    "print(df[df.avg_precipitation > 1.0])\n",
    "header(\"8. df[df['month'].isin['Jun','Jul','Aug']]\")\n",
    "print(df[df['month'].isin(['Jun','Jul','Aug'])])"
   ]
  },
  {
   "cell_type": "code",
   "execution_count": 11,
   "metadata": {},
   "outputs": [
    {
     "name": "stdout",
     "output_type": "stream",
     "text": [
      "--------------------------------------------------\n",
      "[ 9. df.loc[9,['avg_precipitation']] = 101.3 ]\n",
      "   month  avg_high  avg_low  record_high  record_low  avg_precipitation\n",
      "9    Oct        73       54           96          34              101.3\n",
      "10   Nov        64       48           84          30                1.7\n",
      "--------------------------------------------------\n",
      "[ 9. df.loc[9,['avg_precipitation']] = np.nan ]\n",
      "   month  avg_high  avg_low  record_high  record_low  avg_precipitation\n",
      "9    Oct        73       54           96          34                NaN\n",
      "10   Nov        64       48           84          30                1.7\n",
      "--------------------------------------------------\n",
      "[ 9. df.loc[:,'avg_low'] = np.array([5] * len(df)) ]\n",
      "  month  avg_high  avg_low  record_high  record_low  avg_precipitation\n",
      "0   Jan        58        5           74          22               2.95\n",
      "1   Feb        61        5           78          26               3.02\n",
      "2   Mar        65        5           84          25               2.34\n",
      "3   Apr        67        5           92          28               1.02\n",
      "4   May        71        5           98          35               0.48\n",
      "--------------------------------------------------\n",
      "[ 9. df['avg_day'] = (df.avg_low + df.avg_high) / 2 ]\n",
      "  month  avg_high  avg_low  record_high  record_low  avg_precipitation  \\\n",
      "0   Jan        58        5           74          22               2.95   \n",
      "1   Feb        61        5           78          26               3.02   \n",
      "2   Mar        65        5           84          25               2.34   \n",
      "3   Apr        67        5           92          28               1.02   \n",
      "4   May        71        5           98          35               0.48   \n",
      "\n",
      "   avg_day  \n",
      "0     31.5  \n",
      "1     33.0  \n",
      "2     35.0  \n",
      "3     36.0  \n",
      "4     38.0  \n"
     ]
    }
   ],
   "source": [
    "# 9. assignment -- very similar to slicing\n",
    "header(\"9. df.loc[9,['avg_precipitation']] = 101.3\")\n",
    "df.loc[9,['avg_precipitation']] = 101.3\n",
    "print(df.iloc[9:11])\n",
    "\n",
    "header(\"9. df.loc[9,['avg_precipitation']] = np.nan\")\n",
    "df.loc[9,['avg_precipitation']] = np.nan\n",
    "print(df.iloc[9:11])\n",
    "\n",
    "header(\"9. df.loc[:,'avg_low'] = np.array([5] * len(df))\")\n",
    "df.loc[:,'avg_low'] = np.array([5] * len(df))\n",
    "print(df.head())\n",
    "\n",
    "header(\"9. df['avg_day'] = (df.avg_low + df.avg_high) / 2\")\n",
    "df['avg_day'] = (df.avg_low + df.avg_high) / 2\n",
    "print(df.head())"
   ]
  },
  {
   "cell_type": "code",
   "execution_count": 12,
   "metadata": {},
   "outputs": [
    {
     "name": "stdout",
     "output_type": "stream",
     "text": [
      "--------------------------------------------------\n",
      "[ 10. df.rename(columns = {'avg_precipitation':'avg_rain'}, inplace=True) ]\n",
      "  month  avg_high  avg_low  record_high  record_low  avg_rain  avg_day\n",
      "0   Jan        58        5           74          22      2.95     31.5\n",
      "1   Feb        61        5           78          26      3.02     33.0\n",
      "2   Mar        65        5           84          25      2.34     35.0\n",
      "3   Apr        67        5           92          28      1.02     36.0\n",
      "4   May        71        5           98          35      0.48     38.0\n",
      "--------------------------------------------------\n",
      "[ 10. df.columns = ['month','av_hi','av_lo','rec_hi','rec_lo','av_rain','av_day'] ]\n",
      "  month  av_hi  av_lo  rec_hi  rec_lo  av_rain  av_day\n",
      "0   Jan     58      5      74      22     2.95    31.5\n",
      "1   Feb     61      5      78      26     3.02    33.0\n",
      "2   Mar     65      5      84      25     2.34    35.0\n",
      "3   Apr     67      5      92      28     1.02    36.0\n",
      "4   May     71      5      98      35     0.48    38.0\n"
     ]
    }
   ],
   "source": [
    "# 10. renaming columns\n",
    "header(\"10. df.rename(columns = {'avg_precipitation':'avg_rain'}, inplace=True)\")\n",
    "df.rename(columns = {'avg_precipitation':'avg_rain'}, inplace=True)\t\t# rename 1 column\n",
    "print(df.head())\n",
    "\n",
    "header(\"10. df.columns = ['month','av_hi','av_lo','rec_hi','rec_lo','av_rain','av_day']\")\n",
    "df.columns = ['month','av_hi','av_lo','rec_hi','rec_lo','av_rain','av_day']\n",
    "print(df.head())"
   ]
  },
  {
   "cell_type": "code",
   "execution_count": 19,
   "metadata": {},
   "outputs": [
    {
     "name": "stdout",
     "output_type": "stream",
     "text": [
      "--------------------------------------------------\n",
      "[ 11. iterate rows of df with a for loop ]\n"
     ]
    },
    {
     "ename": "KeyError",
     "evalue": "'av_hi'",
     "output_type": "error",
     "traceback": [
      "\u001b[1;31m---------------------------------------------------------------------------\u001b[0m",
      "\u001b[1;31mTypeError\u001b[0m                                 Traceback (most recent call last)",
      "\u001b[1;32m~\\anaconda3\\lib\\site-packages\\pandas\\core\\indexes\\base.py\u001b[0m in \u001b[0;36mget_value\u001b[1;34m(self, series, key)\u001b[0m\n\u001b[0;32m   4410\u001b[0m             \u001b[1;32mtry\u001b[0m\u001b[1;33m:\u001b[0m\u001b[1;33m\u001b[0m\u001b[1;33m\u001b[0m\u001b[0m\n\u001b[1;32m-> 4411\u001b[1;33m                 \u001b[1;32mreturn\u001b[0m \u001b[0mlibindex\u001b[0m\u001b[1;33m.\u001b[0m\u001b[0mget_value_at\u001b[0m\u001b[1;33m(\u001b[0m\u001b[0ms\u001b[0m\u001b[1;33m,\u001b[0m \u001b[0mkey\u001b[0m\u001b[1;33m)\u001b[0m\u001b[1;33m\u001b[0m\u001b[1;33m\u001b[0m\u001b[0m\n\u001b[0m\u001b[0;32m   4412\u001b[0m             \u001b[1;32mexcept\u001b[0m \u001b[0mIndexError\u001b[0m\u001b[1;33m:\u001b[0m\u001b[1;33m\u001b[0m\u001b[1;33m\u001b[0m\u001b[0m\n",
      "\u001b[1;32mpandas\\_libs\\index.pyx\u001b[0m in \u001b[0;36mpandas._libs.index.get_value_at\u001b[1;34m()\u001b[0m\n",
      "\u001b[1;32mpandas\\_libs\\index.pyx\u001b[0m in \u001b[0;36mpandas._libs.index.get_value_at\u001b[1;34m()\u001b[0m\n",
      "\u001b[1;32mpandas\\_libs\\util.pxd\u001b[0m in \u001b[0;36mpandas._libs.util.get_value_at\u001b[1;34m()\u001b[0m\n",
      "\u001b[1;32mpandas\\_libs\\util.pxd\u001b[0m in \u001b[0;36mpandas._libs.util.validate_indexer\u001b[1;34m()\u001b[0m\n",
      "\u001b[1;31mTypeError\u001b[0m: 'str' object cannot be interpreted as an integer",
      "\nDuring handling of the above exception, another exception occurred:\n",
      "\u001b[1;31mKeyError\u001b[0m                                  Traceback (most recent call last)",
      "\u001b[1;32m<ipython-input-19-aa6416f11e04>\u001b[0m in \u001b[0;36m<module>\u001b[1;34m\u001b[0m\n\u001b[0;32m      2\u001b[0m \u001b[0mheader\u001b[0m\u001b[1;33m(\u001b[0m\u001b[1;34m\"11. iterate rows of df with a for loop\"\u001b[0m\u001b[1;33m)\u001b[0m\u001b[1;33m\u001b[0m\u001b[1;33m\u001b[0m\u001b[0m\n\u001b[0;32m      3\u001b[0m \u001b[1;32mfor\u001b[0m \u001b[0mindex\u001b[0m\u001b[1;33m,\u001b[0m \u001b[0mrow\u001b[0m \u001b[1;32min\u001b[0m \u001b[0mdf\u001b[0m\u001b[1;33m.\u001b[0m\u001b[0miterrows\u001b[0m\u001b[1;33m(\u001b[0m\u001b[1;33m)\u001b[0m\u001b[1;33m:\u001b[0m\u001b[1;33m\u001b[0m\u001b[1;33m\u001b[0m\u001b[0m\n\u001b[1;32m----> 4\u001b[1;33m     \u001b[0mprint\u001b[0m \u001b[1;33m(\u001b[0m\u001b[0mindex\u001b[0m\u001b[1;33m,\u001b[0m \u001b[0mrow\u001b[0m\u001b[1;33m[\u001b[0m\u001b[1;34m\"month\"\u001b[0m\u001b[1;33m]\u001b[0m\u001b[1;33m,\u001b[0m \u001b[0mrow\u001b[0m\u001b[1;33m[\u001b[0m\u001b[1;34m\"av_hi\"\u001b[0m\u001b[1;33m]\u001b[0m\u001b[1;33m)\u001b[0m\u001b[1;33m\u001b[0m\u001b[1;33m\u001b[0m\u001b[0m\n\u001b[0m",
      "\u001b[1;32m~\\anaconda3\\lib\\site-packages\\pandas\\core\\series.py\u001b[0m in \u001b[0;36m__getitem__\u001b[1;34m(self, key)\u001b[0m\n\u001b[0;32m    869\u001b[0m         \u001b[0mkey\u001b[0m \u001b[1;33m=\u001b[0m \u001b[0mcom\u001b[0m\u001b[1;33m.\u001b[0m\u001b[0mapply_if_callable\u001b[0m\u001b[1;33m(\u001b[0m\u001b[0mkey\u001b[0m\u001b[1;33m,\u001b[0m \u001b[0mself\u001b[0m\u001b[1;33m)\u001b[0m\u001b[1;33m\u001b[0m\u001b[1;33m\u001b[0m\u001b[0m\n\u001b[0;32m    870\u001b[0m         \u001b[1;32mtry\u001b[0m\u001b[1;33m:\u001b[0m\u001b[1;33m\u001b[0m\u001b[1;33m\u001b[0m\u001b[0m\n\u001b[1;32m--> 871\u001b[1;33m             \u001b[0mresult\u001b[0m \u001b[1;33m=\u001b[0m \u001b[0mself\u001b[0m\u001b[1;33m.\u001b[0m\u001b[0mindex\u001b[0m\u001b[1;33m.\u001b[0m\u001b[0mget_value\u001b[0m\u001b[1;33m(\u001b[0m\u001b[0mself\u001b[0m\u001b[1;33m,\u001b[0m \u001b[0mkey\u001b[0m\u001b[1;33m)\u001b[0m\u001b[1;33m\u001b[0m\u001b[1;33m\u001b[0m\u001b[0m\n\u001b[0m\u001b[0;32m    872\u001b[0m \u001b[1;33m\u001b[0m\u001b[0m\n\u001b[0;32m    873\u001b[0m             \u001b[1;32mif\u001b[0m \u001b[1;32mnot\u001b[0m \u001b[0mis_scalar\u001b[0m\u001b[1;33m(\u001b[0m\u001b[0mresult\u001b[0m\u001b[1;33m)\u001b[0m\u001b[1;33m:\u001b[0m\u001b[1;33m\u001b[0m\u001b[1;33m\u001b[0m\u001b[0m\n",
      "\u001b[1;32m~\\anaconda3\\lib\\site-packages\\pandas\\core\\indexes\\base.py\u001b[0m in \u001b[0;36mget_value\u001b[1;34m(self, series, key)\u001b[0m\n\u001b[0;32m   4417\u001b[0m                     \u001b[1;32mraise\u001b[0m \u001b[0mInvalidIndexError\u001b[0m\u001b[1;33m(\u001b[0m\u001b[0mkey\u001b[0m\u001b[1;33m)\u001b[0m\u001b[1;33m\u001b[0m\u001b[1;33m\u001b[0m\u001b[0m\n\u001b[0;32m   4418\u001b[0m                 \u001b[1;32melse\u001b[0m\u001b[1;33m:\u001b[0m\u001b[1;33m\u001b[0m\u001b[1;33m\u001b[0m\u001b[0m\n\u001b[1;32m-> 4419\u001b[1;33m                     \u001b[1;32mraise\u001b[0m \u001b[0me1\u001b[0m\u001b[1;33m\u001b[0m\u001b[1;33m\u001b[0m\u001b[0m\n\u001b[0m\u001b[0;32m   4420\u001b[0m             \u001b[1;32mexcept\u001b[0m \u001b[0mException\u001b[0m\u001b[1;33m:\u001b[0m\u001b[1;33m\u001b[0m\u001b[1;33m\u001b[0m\u001b[0m\n\u001b[0;32m   4421\u001b[0m                 \u001b[1;32mraise\u001b[0m \u001b[0me1\u001b[0m\u001b[1;33m\u001b[0m\u001b[1;33m\u001b[0m\u001b[0m\n",
      "\u001b[1;32m~\\anaconda3\\lib\\site-packages\\pandas\\core\\indexes\\base.py\u001b[0m in \u001b[0;36mget_value\u001b[1;34m(self, series, key)\u001b[0m\n\u001b[0;32m   4403\u001b[0m         \u001b[0mk\u001b[0m \u001b[1;33m=\u001b[0m \u001b[0mself\u001b[0m\u001b[1;33m.\u001b[0m\u001b[0m_convert_scalar_indexer\u001b[0m\u001b[1;33m(\u001b[0m\u001b[0mk\u001b[0m\u001b[1;33m,\u001b[0m \u001b[0mkind\u001b[0m\u001b[1;33m=\u001b[0m\u001b[1;34m\"getitem\"\u001b[0m\u001b[1;33m)\u001b[0m\u001b[1;33m\u001b[0m\u001b[1;33m\u001b[0m\u001b[0m\n\u001b[0;32m   4404\u001b[0m         \u001b[1;32mtry\u001b[0m\u001b[1;33m:\u001b[0m\u001b[1;33m\u001b[0m\u001b[1;33m\u001b[0m\u001b[0m\n\u001b[1;32m-> 4405\u001b[1;33m             \u001b[1;32mreturn\u001b[0m \u001b[0mself\u001b[0m\u001b[1;33m.\u001b[0m\u001b[0m_engine\u001b[0m\u001b[1;33m.\u001b[0m\u001b[0mget_value\u001b[0m\u001b[1;33m(\u001b[0m\u001b[0ms\u001b[0m\u001b[1;33m,\u001b[0m \u001b[0mk\u001b[0m\u001b[1;33m,\u001b[0m \u001b[0mtz\u001b[0m\u001b[1;33m=\u001b[0m\u001b[0mgetattr\u001b[0m\u001b[1;33m(\u001b[0m\u001b[0mseries\u001b[0m\u001b[1;33m.\u001b[0m\u001b[0mdtype\u001b[0m\u001b[1;33m,\u001b[0m \u001b[1;34m\"tz\"\u001b[0m\u001b[1;33m,\u001b[0m \u001b[1;32mNone\u001b[0m\u001b[1;33m)\u001b[0m\u001b[1;33m)\u001b[0m\u001b[1;33m\u001b[0m\u001b[1;33m\u001b[0m\u001b[0m\n\u001b[0m\u001b[0;32m   4406\u001b[0m         \u001b[1;32mexcept\u001b[0m \u001b[0mKeyError\u001b[0m \u001b[1;32mas\u001b[0m \u001b[0me1\u001b[0m\u001b[1;33m:\u001b[0m\u001b[1;33m\u001b[0m\u001b[1;33m\u001b[0m\u001b[0m\n\u001b[0;32m   4407\u001b[0m             \u001b[1;32mif\u001b[0m \u001b[0mlen\u001b[0m\u001b[1;33m(\u001b[0m\u001b[0mself\u001b[0m\u001b[1;33m)\u001b[0m \u001b[1;33m>\u001b[0m \u001b[1;36m0\u001b[0m \u001b[1;32mand\u001b[0m \u001b[1;33m(\u001b[0m\u001b[0mself\u001b[0m\u001b[1;33m.\u001b[0m\u001b[0mholds_integer\u001b[0m\u001b[1;33m(\u001b[0m\u001b[1;33m)\u001b[0m \u001b[1;32mor\u001b[0m \u001b[0mself\u001b[0m\u001b[1;33m.\u001b[0m\u001b[0mis_boolean\u001b[0m\u001b[1;33m(\u001b[0m\u001b[1;33m)\u001b[0m\u001b[1;33m)\u001b[0m\u001b[1;33m:\u001b[0m\u001b[1;33m\u001b[0m\u001b[1;33m\u001b[0m\u001b[0m\n",
      "\u001b[1;32mpandas\\_libs\\index.pyx\u001b[0m in \u001b[0;36mpandas._libs.index.IndexEngine.get_value\u001b[1;34m()\u001b[0m\n",
      "\u001b[1;32mpandas\\_libs\\index.pyx\u001b[0m in \u001b[0;36mpandas._libs.index.IndexEngine.get_value\u001b[1;34m()\u001b[0m\n",
      "\u001b[1;32mpandas\\_libs\\index.pyx\u001b[0m in \u001b[0;36mpandas._libs.index.IndexEngine.get_loc\u001b[1;34m()\u001b[0m\n",
      "\u001b[1;32mpandas\\_libs\\hashtable_class_helper.pxi\u001b[0m in \u001b[0;36mpandas._libs.hashtable.PyObjectHashTable.get_item\u001b[1;34m()\u001b[0m\n",
      "\u001b[1;32mpandas\\_libs\\hashtable_class_helper.pxi\u001b[0m in \u001b[0;36mpandas._libs.hashtable.PyObjectHashTable.get_item\u001b[1;34m()\u001b[0m\n",
      "\u001b[1;31mKeyError\u001b[0m: 'av_hi'"
     ]
    }
   ],
   "source": [
    "# 11. iterate a df\n",
    "header(\"11. iterate rows of df with a for loop\")\n",
    "for index, row in df.iterrows():\n",
    "    print (index, row[\"month\"], row[\"av_hi\"])"
   ]
  },
  {
   "cell_type": "code",
   "execution_count": 15,
   "metadata": {},
   "outputs": [],
   "source": [
    "# 12. write to csv file\n",
    "df.to_csv('2 foo.csv')"
   ]
  }
 ],
 "metadata": {
  "kernelspec": {
   "display_name": "Python 3",
   "language": "python",
   "name": "python3"
  },
  "language_info": {
   "codemirror_mode": {
    "name": "ipython",
    "version": 3
   },
   "file_extension": ".py",
   "mimetype": "text/x-python",
   "name": "python",
   "nbconvert_exporter": "python",
   "pygments_lexer": "ipython3",
   "version": "3.7.6"
  }
 },
 "nbformat": 4,
 "nbformat_minor": 4
}
